{
  "cells": [
    {
      "cell_type": "markdown",
      "metadata": {},
      "source": [
        "# \ud83e\uddf9 Data Cleaning Notebook (Updated & Modularized)\n",
        "\n",
        "This notebook filters, resizes, and moves images from class-based folders using helper functions."
      ]
    },
    {
      "cell_type": "code",
      "execution_count": null,
      "metadata": {},
      "outputs": [],
      "source": [
        "import os\n",
        "import sys\n",
        "import matplotlib.pyplot as plt\n",
        "\n",
        "# \u2705 Ensure utils module is in sys.path\n",
        "project_root = os.path.abspath(os.path.join(os.getcwd(), \"..\"))\n",
        "if project_root not in sys.path:\n",
        "    sys.path.insert(0, project_root)\n",
        "\n",
        "from utils.preprocessing import clean_and_resize_images, split_train_val"
      ]
    },
    {
      "cell_type": "code",
      "execution_count": null,
      "metadata": {},
      "outputs": [],
      "source": [
        "# \ud83d\udcc1 Define paths\n",
        "source_path = \"../data/train_images\"\n",
        "output_path = \"../data/data_cleaned/train_images_cleaned_v2\""
      ]
    },
    {
      "cell_type": "code",
      "execution_count": null,
      "metadata": {},
      "outputs": [],
      "source": [
        "# \u2728 Clean & resize\n",
        "invalids = clean_and_resize_images(source_path, output_path)\n",
        "print(f\"\u2705 Done Cleaning. {len(invalids)} invalid images found.\")"
      ]
    },
    {
      "cell_type": "code",
      "execution_count": null,
      "metadata": {},
      "outputs": [],
      "source": [
        "# \ud83d\udcca Visualize class distribution in cleaned folder\n",
        "class_counts = {folder: len(os.listdir(os.path.join(output_path, folder))) \n",
        "                for folder in os.listdir(output_path)}\n",
        "\n",
        "plt.figure(figsize=(10, 5))\n",
        "plt.bar(class_counts.keys(), class_counts.values(), color='lightgreen')\n",
        "plt.xticks(rotation=45)\n",
        "plt.title(\"Number of Cleaned Images per Class\")\n",
        "plt.xlabel(\"Class\")\n",
        "plt.ylabel(\"Image Count\")\n",
        "plt.tight_layout()\n",
        "plt.show()"
      ]
    },
    {
      "cell_type": "code",
      "execution_count": null,
      "metadata": {},
      "outputs": [],
      "source": [
        "# \ud83d\udcdd (Optional) Save invalid image paths\n",
        "with open(\"../outputs/invalid_images_log.txt\", \"w\") as f:\n",
        "    for path in invalids:\n",
        "        f.write(path + \"\\n\")"
      ]
    },
    {
      "cell_type": "code",
      "execution_count": null,
      "metadata": {},
      "outputs": [],
      "source": [
        "# \ud83e\udde9 Split train/val (80/20)\n",
        "split_train_val(output_path, train_ratio=0.8)\n",
        "print(\"\u2705 Done splitting train/val.\")"
      ]
    }
  ],
  "metadata": {
    "kernelspec": {
      "display_name": "Python 3 (ipykernel)",
      "language": "python",
      "name": "python3"
    },
    "language_info": {
      "name": "python",
      "version": "3.12"
    }
  },
  "nbformat": 4,
  "nbformat_minor": 2
}