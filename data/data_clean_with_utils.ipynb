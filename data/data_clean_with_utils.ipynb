{
 "cells": [
  {
   "cell_type": "markdown",
   "id": "c8274d06",
   "metadata": {},
   "source": [
    "# 🧼 Data Cleaning Notebook (Updated & Modularized)\n",
    "This notebook filters, resizes, and moves images from class-based folders using helper functions."
   ]
  },
  {
   "cell_type": "code",
   "execution_count": null,
   "id": "b5e51591",
   "metadata": {},
   "outputs": [],
   "source": [
    "from utils.preprocessing import clean_and_resize_images\n",
    "import matplotlib.pyplot as plt"
   ]
  },
  {
   "cell_type": "code",
   "execution_count": null,
   "id": "0033ff0e",
   "metadata": {},
   "outputs": [],
   "source": [
    "# Define paths\n",
    "source_path = \"./data/train_images\"      \n",
    "output_path = \"./data/train_images_cleaned\"\n",
    "\n",
    "# Clean & resize\n",
    "invalids = clean_and_resize_images(source_path, output_path)\n",
    "print(f\"✅ Done cleaning. {len(invalids)} invalid images found.\")"
   ]
  },
  {
   "cell_type": "code",
   "execution_count": null,
   "id": "7ec81988",
   "metadata": {},
   "outputs": [],
   "source": [
    "# Visualize class distribution in cleaned folder\n",
    "import os\n",
    "class_counts = {folder: len(os.listdir(os.path.join(output_path, folder))) for folder in os.listdir(output_path)}\n",
    "\n",
    "plt.figure(figsize=(10, 5))\n",
    "plt.bar(class_counts.keys(), class_counts.values(), color='lightgreen')\n",
    "plt.xticks(rotation=45)\n",
    "plt.title(\"Number of Cleaned Images per Class\")\n",
    "plt.xlabel(\"Class\")\n",
    "plt.ylabel(\"Image Count\")\n",
    "plt.tight_layout()\n",
    "plt.show()"
   ]
  },
  {
   "cell_type": "code",
   "execution_count": null,
   "id": "659cf1f0",
   "metadata": {},
   "outputs": [],
   "source": [
    "# Optionally save invalid image paths\n",
    "with open(\"invalid_images_log.txt\", \"w\") as f:\n",
    "    for path in invalids:\n",
    "        f.write(path + \"\\n\")"
   ]
  },
  {
   "cell_type": "code",
   "execution_count": null,
   "id": "8691a486",
   "metadata": {},
   "outputs": [],
   "source": [
    "# Split into train and val folders (80/20)\n",
    "from utils.preprocessing import split_train_val\n",
    "\n",
    "split_train_val(output_path, train_ratio=0.8)\n",
    "print(\"✅ Done splitting train/val.\")"
   ]
  }
 ],
 "metadata": {
  "language_info": {
   "name": "python"
  }
 },
 "nbformat": 4,
 "nbformat_minor": 5
}
